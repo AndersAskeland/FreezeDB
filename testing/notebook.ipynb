{
 "metadata": {
  "language_info": {
   "codemirror_mode": {
    "name": "ipython",
    "version": 3
   },
   "file_extension": ".py",
   "mimetype": "text/x-python",
   "name": "python",
   "nbconvert_exporter": "python",
   "pygments_lexer": "ipython3",
   "version": "3.8.2-final"
  },
  "orig_nbformat": 2,
  "kernelspec": {
   "name": "python38264bit4e4b358d4d8640459d7790402d252b5e",
   "display_name": "Python 3.8.2 64-bit"
  }
 },
 "nbformat": 4,
 "nbformat_minor": 2,
 "cells": [
  {
   "cell_type": "code",
   "execution_count": 19,
   "metadata": {},
   "outputs": [],
   "source": [
    "# Import stuff\n",
    "from sqlalchemy import create_engine, text, MetaData, insert,Column, Integer, String, ForeignKey\n",
    "from sqlalchemy.orm import sessionmaker, relationship, declarative_base, registry, Session\n",
    "from sqlalchemy.sql.sqltypes import DateTime\n"
   ]
  },
  {
   "cell_type": "code",
   "execution_count": 13,
   "metadata": {},
   "outputs": [],
   "source": [
    "# Engine\n",
    "engine = create_engine(\"sqlite:///notebook.db\", echo=True, future=True) # Configure SQL database using engine object (echo = logging)\n",
    "\n"
   ]
  },
  {
   "cell_type": "code",
   "execution_count": 14,
   "metadata": {},
   "outputs": [],
   "source": [
    "# Create class\n",
    "# SETTINGS\n",
    "Base = declarative_base()\n",
    "\n",
    "# IDENTIFICATION OF SAMPLE  \n",
    "class Sample(Base):\n",
    "    __tablename__ = 'sample'\n",
    "    \n",
    "    participant_id = Column(Integer, primary_key=True, nullable=False)\n",
    "    identifier = Column(Integer, nullable=False)\n",
    "    visit = Column(String, nullable=False)\n",
    "    blood_type = Column(String, nullable=False)\n",
    "    date = Column(DateTime, nullable=False)\n",
    "    \n",
    "    \n",
    "    def __repr__(self):\n",
    "        return f\"Sample(participant_id={self.participant_id!r}, identifier={self.identifier!r}, blood_type={self.blood_type!r}, date={self.date!r})\"\n"
   ]
  },
  {
   "cell_type": "code",
   "execution_count": 15,
   "metadata": {},
   "outputs": [],
   "source": [
    "# Create session\n",
    "session = Session(engine)\n"
   ]
  },
  {
   "cell_type": "code",
   "execution_count": 16,
   "metadata": {},
   "outputs": [
    {
     "output_type": "stream",
     "name": "stdout",
     "text": [
      "2020-11-16 21:26:24,000 INFO sqlalchemy.engine.Engine BEGIN (implicit)\n",
      "2020-11-16 21:26:24,002 INFO sqlalchemy.engine.Engine PRAGMA main.table_info(\"sample\")\n",
      "2020-11-16 21:26:24,003 INFO sqlalchemy.engine.Engine [raw sql] ()\n",
      "2020-11-16 21:26:24,007 INFO sqlalchemy.engine.Engine PRAGMA temp.table_info(\"sample\")\n",
      "2020-11-16 21:26:24,008 INFO sqlalchemy.engine.Engine [raw sql] ()\n",
      "2020-11-16 21:26:24,013 INFO sqlalchemy.engine.Engine \n",
      "CREATE TABLE sample (\n",
      "\tparticipant_id INTEGER NOT NULL, \n",
      "\tidentifier INTEGER NOT NULL, \n",
      "\tvisit VARCHAR NOT NULL, \n",
      "\tblood_type VARCHAR NOT NULL, \n",
      "\tdate DATETIME NOT NULL, \n",
      "\tPRIMARY KEY (participant_id)\n",
      ")\n",
      "\n",
      "\n",
      "2020-11-16 21:26:24,014 INFO sqlalchemy.engine.Engine [no key 0.00105s] ()\n",
      "2020-11-16 21:26:24,018 INFO sqlalchemy.engine.Engine COMMIT\n"
     ]
    }
   ],
   "source": [
    "# Create database\n",
    "Base.metadata.create_all(engine)\n"
   ]
  },
  {
   "cell_type": "code",
   "execution_count": 21,
   "metadata": {},
   "outputs": [
    {
     "output_type": "error",
     "ename": "NameError",
     "evalue": "name 'datetime' is not defined",
     "traceback": [
      "\u001b[0;31m---------------------------------------------------------------------------\u001b[0m",
      "\u001b[0;31mNameError\u001b[0m                                 Traceback (most recent call last)",
      "\u001b[0;32m<ipython-input-21-f9df402122cf>\u001b[0m in \u001b[0;36m<module>\u001b[0;34m\u001b[0m\n\u001b[1;32m      1\u001b[0m \u001b[0;31m# Write data to db\u001b[0m\u001b[0;34m\u001b[0m\u001b[0;34m\u001b[0m\u001b[0;34m\u001b[0m\u001b[0m\n\u001b[0;32m----> 2\u001b[0;31m \u001b[0mtestData\u001b[0m \u001b[0;34m=\u001b[0m \u001b[0mSample\u001b[0m\u001b[0;34m(\u001b[0m\u001b[0mparticipant_id\u001b[0m \u001b[0;34m=\u001b[0m \u001b[0;36m4003\u001b[0m\u001b[0;34m,\u001b[0m \u001b[0midentifier\u001b[0m \u001b[0;34m=\u001b[0m \u001b[0;36m1\u001b[0m\u001b[0;34m,\u001b[0m \u001b[0mblood_type\u001b[0m \u001b[0;34m=\u001b[0m \u001b[0;34m\"plasma\"\u001b[0m\u001b[0;34m,\u001b[0m \u001b[0mvisit\u001b[0m \u001b[0;34m=\u001b[0m \u001b[0;34m\"Baseline\"\u001b[0m\u001b[0;34m,\u001b[0m \u001b[0mdate\u001b[0m \u001b[0;34m=\u001b[0m \u001b[0mdatetime\u001b[0m\u001b[0;34m.\u001b[0m\u001b[0mnow\u001b[0m\u001b[0;34m(\u001b[0m\u001b[0;34m)\u001b[0m\u001b[0;34m)\u001b[0m\u001b[0;34m\u001b[0m\u001b[0;34m\u001b[0m\u001b[0m\n\u001b[0m",
      "\u001b[0;31mNameError\u001b[0m: name 'datetime' is not defined"
     ]
    }
   ],
   "source": [
    "# Write data to db\n",
    "testData = Sample(participant_id = 4003, identifier = 1, blood_type = \"plasma\", visit = \"Baseline\", date = datetime.now())\n"
   ]
  },
  {
   "cell_type": "code",
   "execution_count": null,
   "metadata": {},
   "outputs": [],
   "source": []
  }
 ]
}